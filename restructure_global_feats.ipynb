{
 "cells": [
  {
   "cell_type": "code",
   "execution_count": 1,
   "id": "842a6e7d-2b23-4f4e-8c9a-d9c54bfc985a",
   "metadata": {},
   "outputs": [],
   "source": [
    "import h5py\n",
    "# f = h5py.File('/src/matcher_engine/HierarchicalLocalization/PMUC_globalDesc/isl2-20221101/weight1/glob-des-netvlad.h5', 'a')\n",
    "fsrc = h5py.File('/src/matcher_engine/HierarchicalLocalization/PMUC_globalDesc/isl2-20221101/weight1/glob-feats-netvlad.h5', 'a')"
   ]
  },
  {
   "cell_type": "code",
   "execution_count": 2,
   "id": "ab68b912-18cb-4c7c-a155-b10c928caf52",
   "metadata": {},
   "outputs": [
    {
     "data": {
      "text/plain": [
       "<HDF5 group \"/db\" (0 members)>"
      ]
     },
     "execution_count": 2,
     "metadata": {},
     "output_type": "execute_result"
    }
   ],
   "source": [
    "fsrc.create_group(\"db\")"
   ]
  },
  {
   "cell_type": "code",
   "execution_count": 5,
   "id": "e34b9a55-e21d-4b73-a3f9-0648eb30bc8b",
   "metadata": {},
   "outputs": [],
   "source": [
    "for i in fsrc.keys():\n",
    "    if i == \"db\": continue\n",
    "    fsrc.move(i, f'db/{i}')"
   ]
  },
  {
   "cell_type": "code",
   "execution_count": 3,
   "id": "8611be4b-e9ab-425f-9a84-13dfba7c369c",
   "metadata": {},
   "outputs": [
    {
     "data": {
      "text/plain": [
       "<HDF5 file \"glob-feats-netvlad.h5\" (mode r)>"
      ]
     },
     "execution_count": 3,
     "metadata": {},
     "output_type": "execute_result"
    }
   ],
   "source": [
    "fsrc"
   ]
  },
  {
   "cell_type": "code",
   "execution_count": 6,
   "id": "f1d3adbc-3ad3-4d27-9ae4-3cefe5a326ed",
   "metadata": {},
   "outputs": [
    {
     "data": {
      "text/plain": [
       "<HDF5 group \"/db\" (0 members)>"
      ]
     },
     "execution_count": 6,
     "metadata": {},
     "output_type": "execute_result"
    }
   ],
   "source": [
    "f[\"db\"]"
   ]
  },
  {
   "cell_type": "code",
   "execution_count": 1,
   "id": "a7f61ab6-e411-4ff2-9162-8a10d0f5a75c",
   "metadata": {},
   "outputs": [],
   "source": [
    "import h5py\n",
    "fsrc = h5py.File('/src/matcher_engine/HierarchicalLocalization/PMUC_globalDesc/isl2-20221101/weight1/glob-feats-netvlad.h5', 'a')"
   ]
  },
  {
   "cell_type": "code",
   "execution_count": 2,
   "id": "e1998e70-ea87-4e7a-8979-b6c0f4f87085",
   "metadata": {},
   "outputs": [],
   "source": [
    "del fsrc[\"db\"]"
   ]
  },
  {
   "cell_type": "code",
   "execution_count": 3,
   "id": "26d5e610-177f-4148-915d-9dba0c59bcbb",
   "metadata": {},
   "outputs": [
    {
     "name": "stdout",
     "output_type": "stream",
     "text": [
      "essence-20221103\n"
     ]
    }
   ],
   "source": [
    "from pathlib import Path\n",
    "import os\n",
    "import h5py\n",
    "for map in os.scandir(\"/src/matcher_engine/HierarchicalLocalization/PMUC_globalDesc\"):\n",
    "    # if \"state\" in map.name or \"checkpoint\" in map.name or \"isl\" in map.name: continue\n",
    "    if \"state\" in map.name or \"checkpoint\" in map.name or not \"essence\" in map.name: continue\n",
    "    print(map.name)\n",
    "    for w in os.scandir(map):\n",
    "        if \"1\" not in w.name: continue\n",
    "        fsrc = h5py.File(Path(w.path) / \"glob-des-netvlad.h5\", 'a')\n",
    "        if \"db\" in fsrc: print(\"skip\", map.name); continue\n",
    "        fsrc.create_group(\"db\")\n",
    "        for i in fsrc.keys():\n",
    "            if i == \"db\": continue\n",
    "            fsrc.move(i, f'db/{i}')\n",
    "            "
   ]
  },
  {
   "cell_type": "code",
   "execution_count": 11,
   "id": "51da6d37-c106-42e9-a39b-cf989e2e87e0",
   "metadata": {},
   "outputs": [
    {
     "name": "stdout",
     "output_type": "stream",
     "text": [
      "shellhut-20221109-backup\n",
      "canteen-20221115\n",
      "state_dict_360000_TEMP.pt\n",
      "dragon-20221115\n",
      "isl2-20221101\n",
      ".ipynb_checkpoints\n",
      "football-20221106\n",
      "bld3f1-20221106\n",
      "shellhut-20221109\n",
      "bld4f1-20221101\n",
      "cuparking-20221101\n",
      "political-20221114\n",
      "essence-20221103\n"
     ]
    }
   ],
   "source": [
    "from pathlib import Path\n",
    "import os\n",
    "import h5py\n",
    "import shutil\n",
    "for map in os.scandir(\"/src/matcher_engine/HierarchicalLocalization/PMUC_globalDesc\"):\n",
    "    print(map.name)\n",
    "    if \"state\" in map.name or \"checkpoint\" in map.name or \"isl\" in map.name: continue\n",
    "    for w in os.scandir(map):\n",
    "        if \"0\" in w.name:\n",
    "            p = Path(w.path) / \"glob-feats-netvlad.h5\"\n",
    "            shutil.move(p, p.parent / \"glob-des-netvlad.h5\")\n",
    "        "
   ]
  },
  {
   "cell_type": "code",
   "execution_count": 11,
   "id": "dadca07b-ee7a-4a3f-825e-f41cbebbfd76",
   "metadata": {},
   "outputs": [
    {
     "name": "stdout",
     "output_type": "stream",
     "text": [
      "shellhut-20221109-backup\n",
      "canteen-20221115\n",
      "move\n",
      "state_dict_360000_TEMP.pt\n",
      "dragon-20221115\n",
      "move\n",
      "isl2-20221101\n",
      ".ipynb_checkpoints\n",
      "football-20221106\n",
      "bld3f1-20221106\n",
      "shellhut-20221109\n",
      "bld4f1-20221101\n",
      "cuparking-20221101\n",
      "move\n",
      "political-20221114\n",
      "essence-20221103\n"
     ]
    }
   ],
   "source": [
    "from pathlib import Path\n",
    "import os\n",
    "import h5py\n",
    "import shutil\n",
    "for map in os.scandir(\"/src/matcher_engine/HierarchicalLocalization/PMUC_globalDesc\"):\n",
    "    print(map.name)\n",
    "    if \"state\" in map.name or \"checkpoint\" in map.name or \"isl\" in map.name: continue\n",
    "    for w in os.scandir(map):\n",
    "        if \"0\" in w.name:\n",
    "            # p = Path(w.path) / \"glob-feats-netvlad.h5\"\n",
    "            outmap = f\"/src/matcher_engine/HierarchicalLocalization/PMUC_outputs/{map.name}/weight0/\"\n",
    "            if os.path.exists(outmap):\n",
    "                print(\"move\")\n",
    "                # shutil.move(str(Path(str(w.path)) / \"glob-des-netvlad.h5\"), str(Path(outmap)) )\n",
    "                shutil.copy(str(Path(outmap) / \"glob-des-netvlad.h5\"), str(Path(str(w.path))))\n",
    "        "
   ]
  },
  {
   "cell_type": "code",
   "execution_count": 19,
   "id": "9a304583-97a5-4cce-af10-4fffe5d28803",
   "metadata": {},
   "outputs": [
    {
     "name": "stdout",
     "output_type": "stream",
     "text": [
      "<DirEntry 'state_dict_360000_TEMP.pt'>\n",
      "<DirEntry 'essence-20221103'>\n",
      "/src/matcher_engine/HierarchicalLocalization/PMUC_globalDesc/essence-20221103/weight2/netvlad_weight2.pt <DirEntry 'weight2'>\n",
      "move essence-20221103\n",
      "<DirEntry '.PMUC_outputs'>\n",
      "<DirEntry '.ipynb_checkpoints'>\n",
      "<DirEntry 'canteen-20221115'>\n",
      "/src/matcher_engine/HierarchicalLocalization/PMUC_globalDesc/canteen-20221115/weight2/netvlad_weight2.pt <DirEntry 'weight2'>\n",
      "move canteen-20221115\n",
      "<DirEntry 'isl2-20221101'>\n",
      "/src/matcher_engine/HierarchicalLocalization/PMUC_globalDesc/isl2-20221101/weight2/netvlad_weight2.pt <DirEntry 'weight2'>\n",
      "move isl2-20221101\n",
      "<DirEntry 'dragon-20221115'>\n",
      "/src/matcher_engine/HierarchicalLocalization/PMUC_globalDesc/dragon-20221115/weight2/netvlad_weight2.pt <DirEntry 'weight2'>\n",
      "move dragon-20221115\n",
      "<DirEntry 'cuparking-20221101'>\n",
      "/src/matcher_engine/HierarchicalLocalization/PMUC_globalDesc/cuparking-20221101/weight2/netvlad_weight2.pt <DirEntry 'weight2'>\n",
      "move cuparking-20221101\n"
     ]
    }
   ],
   "source": [
    "from pathlib import Path\n",
    "import os\n",
    "import h5py\n",
    "import shutil\n",
    "src = Path(\"/src/matcher_engine/HierarchicalLocalization/pairs_loc_outputs\")\n",
    "for map in os.scandir(\"/src/matcher_engine/HierarchicalLocalization/PMUC_outputs\"):\n",
    "    print(map)\n",
    "    if \"state\" in map.name or \"checkpoint\" in map.name or \".\" in map.name or not os.path.isdir(map): continue\n",
    "    for w in os.scandir(map):\n",
    "        if \"2\" in w.name:\n",
    "            p = src / map.name / \"netvlad_weight2.pt\"\n",
    "            print(p,str(w))\n",
    "            shutil.move(str(p), str(w))\n",
    "            print(\"move\",map.name)\n",
    "        "
   ]
  },
  {
   "cell_type": "code",
   "execution_count": 9,
   "id": "ed6d676f-0235-445c-a751-aad905ca5d4a",
   "metadata": {},
   "outputs": [
    {
     "data": {
      "text/plain": [
       "PosixPath('/src/matcher_engine/HierarchicalLocalization/PMUC_outputs/canteen-20221115/weight0')"
      ]
     },
     "execution_count": 9,
     "metadata": {},
     "output_type": "execute_result"
    }
   ],
   "source": [
    "Path(outmap) "
   ]
  },
  {
   "cell_type": "code",
   "execution_count": null,
   "id": "5daed128-8e98-404f-b2f0-bb534ab8c5b2",
   "metadata": {},
   "outputs": [],
   "source": []
  }
 ],
 "metadata": {
  "kernelspec": {
   "display_name": "Python 3",
   "language": "python",
   "name": "python3"
  },
  "language_info": {
   "codemirror_mode": {
    "name": "ipython",
    "version": 3
   },
   "file_extension": ".py",
   "mimetype": "text/x-python",
   "name": "python",
   "nbconvert_exporter": "python",
   "pygments_lexer": "ipython3",
   "version": "3.6.9"
  }
 },
 "nbformat": 4,
 "nbformat_minor": 5
}
