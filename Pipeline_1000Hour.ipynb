{
 "cells": [
  {
   "cell_type": "code",
   "execution_count": 1,
   "id": "4f6589fd-3de9-41b0-8aa3-cebbad7a8c69",
   "metadata": {},
   "outputs": [
    {
     "name": "stderr",
     "output_type": "stream",
     "text": [
      "Using cache found in /root/.cache/torch/hub/yxgeee_OpenIBL_master\n"
     ]
    }
   ],
   "source": [
    "import pycolmap as pc\n",
    "from pathlib import Path\n",
    "import sys\n",
    "from IPython.display import clear_output\n",
    "\n",
    "sys.path.append('/src/app')\n",
    "sys.path.append('/src/')\n",
    "sys.path.append('src')\n",
    "from place_utils import localize_places\n",
    "\n",
    "feature_conf = \"superpoint_aachen\"\n",
    "matcher_conf = \"superglue\"\n",
    "\n",
    "import numpy as np\n",
    "import cv2\n",
    "import tqdm\n",
    "import os\n",
    "# from IPython.display import clear_output\n",
    "\n",
    "# Clear the output of the current cell\n",
    "# clear_output()\n",
    "\n",
    "def get_qt_vector(recon):\n",
    "    res = {}\n",
    "    for k,image in recon.images.items():\n",
    "        qtvec = np.concatenate((image.qvec,image.tvec), axis=0)\n",
    "        res[image.name] = qtvec\n",
    "    return res\n",
    "\n",
    "def matcher_localize(image_paths, dataset_name, weightNo, intrinsic,num=20, rank=5, cvtColor=None, limit=99999999):\n",
    "    poses = {}\n",
    "    count = 0\n",
    "    for image_path in tqdm.tqdm(image_paths):\n",
    "        args = {\"name\": dataset_name,\n",
    "                \"input\": image_path,\n",
    "                \"num\": num,\n",
    "                \"rank\": rank,\n",
    "                \"feature_conf\":feature_conf,\n",
    "                \"weight\":weightNo,\n",
    "                \"matcher_conf\":matcher_conf,}\n",
    "        if intrinsic is not None: args['intrinsic'] = intrinsic\n",
    "        print(args)\n",
    "        image = cv2.imread(image_path)\n",
    "        if cvtColor: image = cv2.cvtColor(image, cvtColor)\n",
    "        queries = [(os.path.basename(image_path), image)]\n",
    "        try:\n",
    "            pose = localize_places(queries, args)\n",
    "        except Exception as e:\n",
    "            print(e)\n",
    "            pose = \"ERROR\"\n",
    "        poses[image_path] = pose\n",
    "        count+=1\n",
    "        if count == limit: break\n",
    "        clear_output()\n",
    "    return poses\n",
    "\n",
    "def set_query_poses_to_model(recon, poses):\n",
    "    \"\"\"\n",
    "    use output from matcher localize\n",
    "    \"\"\"\n",
    "    for i, image in recon.images.items():\n",
    "        image_name = image.name\n",
    "        q = poses[image_name][0]['orientation']\n",
    "        t = poses[image_name][0]['position']\n",
    "        old_qvec = recon.images[i].qvec\n",
    "        old_tvec = recon.images[i].tvec\n",
    "        recon.images[i].tvec = np.array([t['x'], t['y'], t['z']])\n",
    "        recon.images[i].qvec = np.array([q['w'], q['x'], q['y'], q['z']])\n",
    "    print(\"set new camera poses success!\")\n",
    "\n",
    "from pathlib import Path\n",
    "import os\n",
    "\n",
    "def run_eval_pipeline(map_name, image_path, intrinsic, weightNo):\n",
    "    txt=''\n",
    "    map_path = Path(\"/src/matcher_engine/HierarchicalLocalization/PMUC_Dataset/\") / map_name\n",
    "    image_paths = [im.path for im in os.scandir(image_path)]\n",
    "    poses = matcher_localize(image_paths, map_name, weightNo, intrinsic,limit=9999999)\n",
    "    for k,v in poses.items():\n",
    "        name = '/'.join(k.split(\"/\")[-1:])\n",
    "        if v == \"ERROR\":\n",
    "            txt += f\"{name},ERROR,ERROR,ERROR,ERROR,ERROR,ERROR,ERROR\\n\"\n",
    "        else:\n",
    "            q = v[0]['orientation']\n",
    "            t = v[0]['position']\n",
    "            txt += f\"{name},{t['x']},{t['y']},{t['z']},{q['w']},{q['x']},{q['y']},{q['z']}\\n\"\n",
    "            # print(poses)\n",
    "            # print([os.path.basename(i) for i in image_paths])\n",
    "    return txt\n",
    "\n"
   ]
  },
  {
   "cell_type": "markdown",
   "id": "ee0565b7-10d2-442b-b6c0-af5a07dd93c6",
   "metadata": {},
   "source": [
    "## Read SR1 intrinsic"
   ]
  },
  {
   "cell_type": "code",
   "execution_count": 22,
   "id": "b31e04e3-e02a-4737-8c01-e72ea601b633",
   "metadata": {},
   "outputs": [],
   "source": [
    "import pycolmap as pc\n",
    "recon = pc.Reconstruction()\n",
    "model_path = \"/src/matcher_engine/HierarchicalLocalization/PMUC_outputs/bld4_1000Hour_3/sfm_superpoint+superglue\"\n",
    "recon.read(model_path)\n",
    "camera = recon.cameras[1]\n",
    "\n",
    "params = [camera.model_name, camera.width, camera.height] + camera.params_to_string().split(',')\n",
    "save_ = \"/src/matcher_engine/HierarchicalLocalization/PMUC_Dataset/bld4_1000Hour/sr1_estimated_intrinsic.txt\"\n",
    "intrins_param = ' '.join(map(str, params))\n",
    "with open(str(save_), 'w') as f:\n",
    "    f.write(intrins_param)"
   ]
  },
  {
   "cell_type": "markdown",
   "id": "a3d77909-1bb6-4192-80f6-83049ccd0cb2",
   "metadata": {},
   "source": [
    "## localize"
   ]
  },
  {
   "cell_type": "code",
   "execution_count": 2,
   "id": "ef951054-0512-4db6-954c-c0e3fabbafa3",
   "metadata": {},
   "outputs": [
    {
     "name": "stderr",
     "output_type": "stream",
     "text": [
      "100%|██████████| 105/105 [11:23<00:00,  6.51s/it]\n"
     ]
    }
   ],
   "source": [
    "from pathlib import Path\n",
    "image_path = \"/src/matcher_engine/HierarchicalLocalization/PMUC_Dataset/1000Hour_sampled\"\n",
    "# image_path = '/src/matcher_engine/HierarchicalLocalization/PMUC_Dataset/bld4f1-20221101/db'\n",
    "map_name = \"bld4f1-upper-p06top19\"\n",
    "weightNo = 0\n",
    "intrinsic = \"/src/matcher_engine/HierarchicalLocalization/PMUC_Dataset/bld4_1000Hour/sr1_estimated_intrinsic.txt\"\n",
    "txt = run_eval_pipeline(map_name, image_path, intrinsic, weightNo)\n",
    "with open(Path(image_path) / \"localize_result_upper.txt\", 'w') as f:\n",
    "    f.write(txt)"
   ]
  },
  {
   "cell_type": "markdown",
   "id": "f71ac32a-3f5d-4a42-8e3d-086f2c658fd1",
   "metadata": {},
   "source": [
    "## Assign extra localized images to model"
   ]
  },
  {
   "cell_type": "markdown",
   "id": "18912674-3888-4737-8816-3454b9880d46",
   "metadata": {},
   "source": [
    "### ref model for camera intrinsic"
   ]
  },
  {
   "cell_type": "code",
   "execution_count": 2,
   "id": "e9e0fa6d-2f94-4851-a342-2113e70fd60f",
   "metadata": {},
   "outputs": [
    {
     "data": {
      "text/plain": [
       "<Camera 'camera_id=2, model=SIMPLE_RADIAL, width=1280, height=720, num_params=4'>"
      ]
     },
     "execution_count": 2,
     "metadata": {},
     "output_type": "execute_result"
    }
   ],
   "source": [
    "import pycolmap as pc\n",
    "recon = pc.Reconstruction()\n",
    "model_path = \"/src/matcher_engine/HierarchicalLocalization/PMUC_outputs/bld4_1000Hour_3/sfm_superpoint+superglue\"\n",
    "recon.read(model_path)\n",
    "sr1_camera = recon.cameras[1]\n",
    "sr1_camera.camera_id = 2\n",
    "sr1_camera"
   ]
  },
  {
   "cell_type": "code",
   "execution_count": 3,
   "id": "6657e5cd-72e0-4e70-bb34-f507fa76b3ea",
   "metadata": {},
   "outputs": [
    {
     "data": {
      "text/plain": [
       "<Camera 'camera_id=2, model=SIMPLE_RADIAL, width=1280, height=720, num_params=4'>"
      ]
     },
     "execution_count": 3,
     "metadata": {},
     "output_type": "execute_result"
    }
   ],
   "source": [
    "sr1_camera"
   ]
  },
  {
   "cell_type": "markdown",
   "id": "78edde2d-7c1c-45cc-9ac4-f1067730d77f",
   "metadata": {},
   "source": [
    "### target model to add camera"
   ]
  },
  {
   "cell_type": "code",
   "execution_count": 4,
   "id": "35042a05-470b-42da-9ad3-0a5ebdbbe5db",
   "metadata": {},
   "outputs": [],
   "source": [
    "recon2 = pc.Reconstruction()\n",
    "model_path = \"/src/matcher_engine/HierarchicalLocalization/PMUC_outputs/bld4f1-20221101/weight0/map0\"\n",
    "recon2.read(model_path)\n",
    "recon2.add_camera(sr1_camera)"
   ]
  },
  {
   "cell_type": "code",
   "execution_count": 5,
   "id": "e39c519d-8450-4a41-a871-41ed444ef667",
   "metadata": {},
   "outputs": [
    {
     "data": {
      "text/plain": [
       "{2: <Camera 'camera_id=2, model=SIMPLE_RADIAL, width=1280, height=720, num_params=4'>, 1: <Camera 'camera_id=1, model=SIMPLE_RADIAL, width=1008, height=756, num_params=4'>}"
      ]
     },
     "execution_count": 5,
     "metadata": {},
     "output_type": "execute_result"
    }
   ],
   "source": [
    "recon2.cameras"
   ]
  },
  {
   "cell_type": "code",
   "execution_count": null,
   "id": "8aa6f524-8594-4b21-b8b7-4d1ffe9695f4",
   "metadata": {},
   "outputs": [],
   "source": [
    "import numpy as np\n",
    "from pathlib import Path\n",
    "image_path = \"/src/matcher_engine/HierarchicalLocalization/PMUC_Dataset/1000Hour_placeno16\"\n",
    "txt = open(Path(image_path) / \"localize_result_upper_p16.txt\", 'r').read().split(\"\\n\")[:-1]\n",
    "\n",
    "image_idx = 1\n",
    "for tx in txt:\n",
    "    tx = tx.split(\",\")\n",
    "    image_name = tx[0]\n",
    "    t = np.array(tx[1:4])\n",
    "    if t[0] == 'ERROR': continue\n",
    "    print(t)\n",
    "    q = np.array(tx[4:])\n",
    "    try:\n",
    "        image_sfm = recon2.images[image_idx]\n",
    "    except Exception as e:\n",
    "        print(e)\n",
    "    image_sfm.tvec = t\n",
    "    image_sfm.qvec = q\n",
    "    image_sfm.name = image_name\n",
    "    image_sfm.image_id = image_idx\n",
    "    # image_sfm.camera_id = 2\n",
    "    print(image_sfm)\n",
    "    # recon2.add_image(image_sfm)\n",
    "    image_idx += 1\n",
    "    # break"
   ]
  },
  {
   "cell_type": "code",
   "execution_count": 12,
   "id": "f96626b5-16fa-4fb9-9642-ab6a2de40b59",
   "metadata": {},
   "outputs": [
    {
     "data": {
      "text/plain": [
       "1918"
      ]
     },
     "execution_count": 12,
     "metadata": {},
     "output_type": "execute_result"
    }
   ],
   "source": [
    "image_idx"
   ]
  },
  {
   "cell_type": "code",
   "execution_count": 13,
   "id": "674024d6-5eff-4924-8e0c-5fc0322e8eae",
   "metadata": {},
   "outputs": [
    {
     "data": {
      "text/plain": [
       "<Image 'image_id=1917, camera_id=1, name=\"sr1-101_2496_16_0.jpg\", triangulated=828/3208'>"
      ]
     },
     "execution_count": 13,
     "metadata": {},
     "output_type": "execute_result"
    }
   ],
   "source": [
    "image_sfm"
   ]
  },
  {
   "cell_type": "code",
   "execution_count": 15,
   "id": "1bd29cb9-7617-424f-b807-dda5f3fa177a",
   "metadata": {},
   "outputs": [
    {
     "data": {
      "text/plain": [
       "198"
      ]
     },
     "execution_count": 15,
     "metadata": {},
     "output_type": "execute_result"
    }
   ],
   "source": [
    "recon2.images.__len__()"
   ]
  },
  {
   "cell_type": "code",
   "execution_count": 16,
   "id": "e0c3274a-77fd-4ff1-9763-c3f1572d68a2",
   "metadata": {},
   "outputs": [
    {
     "data": {
      "text/plain": [
       "<Image 'image_id=1917, camera_id=1, name=\"sr1-101_2496_16_0.jpg\", triangulated=828/3208'>"
      ]
     },
     "execution_count": 16,
     "metadata": {},
     "output_type": "execute_result"
    }
   ],
   "source": [
    "image_sfm"
   ]
  },
  {
   "cell_type": "code",
   "execution_count": 18,
   "id": "f7b7a007-7dfd-4ec9-bf1f-dee113661776",
   "metadata": {},
   "outputs": [],
   "source": [
    "recon2.write('/src/matcher_engine/HierarchicalLocalization/PMUC_outputs/1000Hour_outputs/bld4-upper-p16')"
   ]
  },
  {
   "cell_type": "code",
   "execution_count": 1,
   "id": "c9f9a259-cdc7-4104-8a58-9e5b1cc736fe",
   "metadata": {},
   "outputs": [
    {
     "ename": "NameError",
     "evalue": "name 'recon2' is not defined",
     "output_type": "error",
     "traceback": [
      "\u001b[0;31m\u001b[0m",
      "\u001b[0;31mNameError\u001b[0mTraceback (most recent call last)",
      "\u001b[0;32m<ipython-input-1-c71e351453e3>\u001b[0m in \u001b[0;36m<module>\u001b[0;34m\u001b[0m\n\u001b[0;32m----> 1\u001b[0;31m \u001b[0mrecon2\u001b[0m\u001b[0;34m\u001b[0m\u001b[0;34m\u001b[0m\u001b[0m\n\u001b[0m",
      "\u001b[0;31mNameError\u001b[0m: name 'recon2' is not defined"
     ]
    }
   ],
   "source": [
    "recon2"
   ]
  },
  {
   "cell_type": "code",
   "execution_count": null,
   "id": "3fafa6d1-f5c8-4f5b-894a-27a5da661afc",
   "metadata": {},
   "outputs": [],
   "source": []
  }
 ],
 "metadata": {
  "kernelspec": {
   "display_name": "Python 3",
   "language": "python",
   "name": "python3"
  },
  "language_info": {
   "codemirror_mode": {
    "name": "ipython",
    "version": 3
   },
   "file_extension": ".py",
   "mimetype": "text/x-python",
   "name": "python",
   "nbconvert_exporter": "python",
   "pygments_lexer": "ipython3",
   "version": "3.6.9"
  }
 },
 "nbformat": 4,
 "nbformat_minor": 5
}
