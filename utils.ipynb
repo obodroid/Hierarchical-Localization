{
 "cells": [
  {
   "cell_type": "code",
   "execution_count": null,
   "id": "aa0ae0a2",
   "metadata": {},
   "outputs": [],
   "source": [
    "import h5py\n",
    "dataset_name = 'cupid'\n",
    "filename = f\"outputs/{dataset_name}/feats-superpoint-n4096-r1024.h5\"\n",
    "\n",
    "with h5py.File(filename, \"r\") as f:\n",
    "    print(f'Keys: {list(f.keys())}')\n",
    "    key = list(f.keys())[0]\n",
    "    print(f'First Key: {key}')\n",
    "    print(f'First Data: {f[key]}')\n",
    "    print(f'First Data List: {list(f[key])}')\n",
    "    data = list(f.values())[0]\n",
    "    print(f'First Descriptors: {data[list(f[key])[0]]}')"
   ]
  },
  {
   "cell_type": "code",
   "execution_count": null,
   "id": "57e94ec3",
   "metadata": {},
   "outputs": [],
   "source": [
    "from jupyterlab_h5web import H5Web\n",
    "H5Web(filename)"
   ]
  },
  {
   "cell_type": "code",
   "execution_count": null,
   "id": "1205d313",
   "metadata": {},
   "outputs": [],
   "source": []
  }
 ],
 "metadata": {
  "kernelspec": {
   "display_name": "Python 3 (ipykernel)",
   "language": "python",
   "name": "python3"
  },
  "language_info": {
   "codemirror_mode": {
    "name": "ipython",
    "version": 3
   },
   "file_extension": ".py",
   "mimetype": "text/x-python",
   "name": "python",
   "nbconvert_exporter": "python",
   "pygments_lexer": "ipython3",
   "version": "3.7.12"
  }
 },
 "nbformat": 4,
 "nbformat_minor": 5
}
