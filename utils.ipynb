{
 "cells": [
  {
   "cell_type": "code",
   "execution_count": 1,
   "id": "384bbcb7-c1de-4ac8-a048-5545889a042e",
   "metadata": {},
   "outputs": [],
   "source": [
    "# dataset_name = 'cupid'\n",
    "dataset_name = 'aachen'\n",
    "# filename = f\"outputs/{dataset_name}/feats-superpoint-n4096-r1024_matches-superglue_pairs-query-netvlad1.h5\"\n",
    "filename = f\"outputs/{dataset_name}/openibl_4096.h5\"\n",
    "database_path = f\"outputs/{dataset_name}/sfm_superpoint+superglue/database.db\""
   ]
  },
  {
   "cell_type": "code",
   "execution_count": 2,
   "id": "aa0ae0a2",
   "metadata": {},
   "outputs": [
    {
     "name": "stdout",
     "output_type": "stream",
     "text": [
      "Keys: ['query']\n",
      "First Key: query\n",
      "First Data: <HDF5 group \"/query\" (1 members)>\n",
      "First Data List: ['1.jpg']\n",
      "First Descriptors: <HDF5 group \"/query/1.jpg\" (1 members)>\n"
     ]
    }
   ],
   "source": [
    "import h5py\n",
    "\n",
    "with h5py.File(filename, \"r\") as f:\n",
    "    print(f'Keys: {list(f.keys())}')\n",
    "    key = list(f.keys())[0]\n",
    "    print(f'First Key: {key}')\n",
    "    print(f'First Data: {f[key]}')\n",
    "    print(f'First Data List: {list(f[key])}')\n",
    "    data = list(f.values())[0]\n",
    "    print(f'First Descriptors: {data[list(f[key])[0]]}')"
   ]
  },
  {
   "cell_type": "code",
   "execution_count": 3,
   "id": "57e94ec3",
   "metadata": {},
   "outputs": [
    {
     "data": {
      "application/x-hdf5": "/src/matcher_engine/HierarchicalLocalization/outputs/aachen/openibl_4096.h5",
      "text/plain": [
       "<jupyterlab_h5web.widget.H5Web object>"
      ]
     },
     "execution_count": 3,
     "metadata": {},
     "output_type": "execute_result"
    }
   ],
   "source": [
    "from jupyterlab_h5web import H5Web\n",
    "H5Web(filename)"
   ]
  },
  {
   "cell_type": "code",
   "execution_count": 16,
   "id": "1205d313",
   "metadata": {},
   "outputs": [
    {
     "name": "stdout",
     "output_type": "stream",
     "text": [
      "name: db/IMG_0001.JPG, image id: 1\n",
      "name: db/IMG_0002.JPG, image id: 2\n",
      "name: db/IMG_0003.JPG, image id: 3\n",
      "name: db/IMG_0004.JPG, image id: 4\n",
      "name: db/IMG_0005.JPG, image id: 5\n",
      "name: db/IMG_0006.JPG, image id: 6\n",
      "name: db/IMG_0007.JPG, image id: 7\n",
      "name: db/IMG_0008.JPG, image id: 8\n",
      "name: db/IMG_0009.JPG, image id: 9\n",
      "name: db/IMG_0010.JPG, image id: 10\n",
      "name: db/IMG_0011.JPG, image id: 11\n",
      "name: db/IMG_0012.JPG, image id: 12\n",
      "name: db/IMG_0013.JPG, image id: 13\n",
      "name: db/IMG_0014.JPG, image id: 14\n",
      "name: db/IMG_0015.JPG, image id: 15\n",
      "name: db/IMG_0016.JPG, image id: 16\n",
      "name: db/IMG_0017.JPG, image id: 17\n",
      "name: db/IMG_0018.JPG, image id: 18\n",
      "name: db/IMG_0019.JPG, image id: 19\n",
      "name: db/IMG_0020.JPG, image id: 20\n",
      "name: db/IMG_0021.JPG, image id: 21\n",
      "name: db/IMG_0022.JPG, image id: 22\n",
      "name: db/IMG_0023.JPG, image id: 23\n",
      "name: db/IMG_0024.JPG, image id: 24\n",
      "name: db/IMG_0025.JPG, image id: 25\n",
      "name: db/IMG_0026.JPG, image id: 26\n",
      "name: db/IMG_0027.JPG, image id: 27\n",
      "name: db/IMG_0028.JPG, image id: 28\n",
      "name: db/IMG_0029.JPG, image id: 29\n",
      "name: db/IMG_0030.JPG, image id: 30\n",
      "name: db/IMG_0031.JPG, image id: 31\n",
      "name: db/IMG_0032.JPG, image id: 32\n",
      "name: db/IMG_0033.JPG, image id: 33\n",
      "name: db/IMG_0034.JPG, image id: 34\n",
      "name: db/IMG_0035.JPG, image id: 35\n",
      "name: db/IMG_0036.JPG, image id: 36\n",
      "name: db/IMG_0037.JPG, image id: 37\n",
      "name: db/IMG_0038.JPG, image id: 38\n",
      "name: db/IMG_0039.JPG, image id: 39\n",
      "name: db/IMG_0040.JPG, image id: 40\n",
      "name: db/IMG_0041.JPG, image id: 41\n",
      "name: db/IMG_0042.JPG, image id: 42\n",
      "name: db/IMG_0043.JPG, image id: 43\n",
      "name: db/IMG_0044.JPG, image id: 44\n",
      "name: db/IMG_0045.JPG, image id: 45\n",
      "name: db/IMG_0046.JPG, image id: 46\n",
      "name: db/IMG_0047.JPG, image id: 47\n",
      "name: db/IMG_0048.JPG, image id: 48\n",
      "name: db/IMG_0049.JPG, image id: 49\n",
      "name: db/IMG_0050.JPG, image id: 50\n",
      "name: db/IMG_0051.JPG, image id: 51\n",
      "name: db/IMG_0052.JPG, image id: 52\n",
      "name: db/IMG_0053.JPG, image id: 53\n",
      "name: db/IMG_0054.JPG, image id: 54\n",
      "name: db/IMG_0055.JPG, image id: 55\n",
      "name: db/IMG_0056.JPG, image id: 56\n",
      "name: db/IMG_0057.JPG, image id: 57\n",
      "name: db/IMG_0058.JPG, image id: 58\n",
      "name: db/IMG_0059.JPG, image id: 59\n",
      "name: db/IMG_0060.JPG, image id: 60\n",
      "name: db/IMG_0061.JPG, image id: 61\n",
      "name: db/IMG_0062.JPG, image id: 62\n",
      "name: db/IMG_0063.JPG, image id: 63\n",
      "name: db/IMG_0064.JPG, image id: 64\n",
      "name: db/IMG_0065.JPG, image id: 65\n",
      "name: query/IMG_0065.JPG, image id: 66\n"
     ]
    }
   ],
   "source": [
    "from hloc.utils.database import COLMAPDatabase\n",
    "db = COLMAPDatabase.connect(database_path)\n",
    "images = {}\n",
    "for name, image_id in db.execute(\"SELECT name, image_id FROM images;\"):\n",
    "    images[name] = image_id\n",
    "    print(f\"name: {name}, image id: {image_id}\")\n",
    "db.close()"
   ]
  },
  {
   "cell_type": "code",
   "execution_count": null,
   "id": "b503155e-b7d7-49ff-926c-aaf2fb9523b4",
   "metadata": {},
   "outputs": [],
   "source": []
  }
 ],
 "metadata": {
  "kernelspec": {
   "display_name": "Python 3 (ipykernel)",
   "language": "python",
   "name": "python3"
  },
  "language_info": {
   "codemirror_mode": {
    "name": "ipython",
    "version": 3
   },
   "file_extension": ".py",
   "mimetype": "text/x-python",
   "name": "python",
   "nbconvert_exporter": "python",
   "pygments_lexer": "ipython3",
   "version": "3.7.12"
  }
 },
 "nbformat": 4,
 "nbformat_minor": 5
}
