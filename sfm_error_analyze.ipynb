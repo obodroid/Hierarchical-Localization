{
 "cells": [
  {
   "cell_type": "code",
   "execution_count": 18,
   "metadata": {
    "id": "OtZdYiQv0K17"
   },
   "outputs": [],
   "source": [
    "import pycolmap as pc\n",
    "from pathlib import Path\n",
    "import sys\n",
    "sys.path.append('/src/app')\n",
    "sys.path.append('/src/')\n",
    "sys.path.append('src')\n",
    "from place_utils import localize_places"
   ]
  },
  {
   "cell_type": "code",
   "execution_count": 2,
   "metadata": {
    "id": "ISzKMpu-0MSE"
   },
   "outputs": [],
   "source": [
    "dset = 'canteen-20221115'\n",
    "output = 'canteen-20221115-sift'\n",
    "datasetz_path = Path(f'/src/matcher_engine/HierarchicalLocalization/outputs/{output}')\n",
    "feature_conf = \"superpoint_aachen\"\n",
    "matcher_conf = \"superglue\""
   ]
  },
  {
   "cell_type": "code",
   "execution_count": 3,
   "metadata": {
    "colab": {
     "base_uri": "https://localhost:8080/"
    },
    "id": "026OMK_o0xxq",
    "outputId": "514638f7-e35b-4e38-aecc-e28924a08cca"
   },
   "outputs": [
    {
     "data": {
      "text/plain": [
       "PosixPath('/src/matcher_engine/HierarchicalLocalization/outputs/canteen-20221115-sift/sfm_superpoint+superglue')"
      ]
     },
     "execution_count": 3,
     "metadata": {},
     "output_type": "execute_result"
    }
   ],
   "source": [
    "sfm = datasetz_path / 'sfm_superpoint+superglue'\n",
    "sfm"
   ]
  },
  {
   "cell_type": "code",
   "execution_count": 4,
   "metadata": {
    "id": "hwWig7zh1DCS"
   },
   "outputs": [],
   "source": [
    "recon = pc.Reconstruction()"
   ]
  },
  {
   "cell_type": "code",
   "execution_count": 16,
   "metadata": {
    "id": "s23uyjbP3XHL"
   },
   "outputs": [],
   "source": [
    "import numpy as np\n",
    "import cv2\n",
    "import tqdm\n",
    "import os\n",
    "from IPython.display import clear_output\n",
    "\n",
    "# Clear the output of the current cell\n",
    "clear_output()\n",
    "\n",
    "def get_qt_vector(recon):\n",
    "    res = {}\n",
    "    for k,image in recon.images.items():\n",
    "        qtvec = np.concatenate((image.qvec,image.tvec), axis=0)\n",
    "        res[image.name] = qtvec\n",
    "    return res\n",
    "\n",
    "def matcher_localize(image_paths, image_folder_path, dataset_name, num=20, rank=5, cvtColor=None, limit=9999):\n",
    "    poses = {}\n",
    "    count = 0\n",
    "    for image_path in tqdm.tqdm(image_paths):\n",
    "        full_image_path = os.path.join(image_folder_path, image_path)\n",
    "        args = {\"name\": dataset_name,\n",
    "                \"input\": full_image_path,\n",
    "                \"num\": num,\n",
    "                \"rank\": rank,\n",
    "                \"feature_conf\":feature_conf,\n",
    "                \"matcher_conf\":matcher_conf,}\n",
    "        print(args)\n",
    "        image = cv2.imread(full_image_path)\n",
    "        if cvtColor: image = cv2.cvtColor(image, cvtColor)\n",
    "        queries = [(os.path.basename(full_image_path), image)]\n",
    "        pose = localize_places(queries, args)\n",
    "        poses[image_path] = pose\n",
    "        count+=1\n",
    "        if count == limit: break\n",
    "        clear_output()\n",
    "    return poses\n",
    "\n",
    "def set_query_poses_to_model(recon, poses):\n",
    "    \"\"\"\n",
    "    use output from matcher localize\n",
    "    \"\"\"\n",
    "    for i, image in recon.images.items():\n",
    "        image_name = image.name\n",
    "        q = poses[image_name][0]['orientation']\n",
    "        t = poses[image_name][0]['position']\n",
    "        old_qvec = recon.images[i].qvec\n",
    "        old_tvec = recon.images[i].tvec\n",
    "        recon.images[i].tvec = np.array([t['x'], t['y'], t['z']])\n",
    "        recon.images[i].qvec = np.array([q['w'], q['x'], q['y'], q['z']])\n",
    "    print(\"set new camera poses success!\")"
   ]
  },
  {
   "cell_type": "code",
   "execution_count": null,
   "metadata": {},
   "outputs": [],
   "source": []
  },
  {
   "cell_type": "code",
   "execution_count": 6,
   "metadata": {},
   "outputs": [
    {
     "data": {
      "text/plain": [
       "{'name': 'canteen-20221115',\n",
       " 'input': '/src/matcher_engine/HierarchicalLocalization/datasets/canteen-20221115/images/db/p012-d7-f00286.jpg',\n",
       " 'num': 20,\n",
       " 'rank': 5}"
      ]
     },
     "execution_count": 18,
     "metadata": {},
     "output_type": "execute_result"
    }
   ],
   "source": [
    "{'name': 'canteen-20221115', 'input': '/src/matcher_engine/HierarchicalLocalization/datasets/canteen-20221115/images/db/p001-d3-f00034.jpg', 'num': 20, 'rank': 5}\n",
    "{'name': 'canteen-20221115', 'input': '/src/matcher_engine/HierarchicalLocalization/datasets/canteen-20221115/images/db/p012-d7-f00286.jpg', 'num': 20, 'rank': 5}"
   ]
  },
  {
   "cell_type": "code",
   "execution_count": 7,
   "metadata": {
    "id": "a_8UP_XA1dyV"
   },
   "outputs": [],
   "source": [
    "recon.read(str((sfm)))"
   ]
  },
  {
   "cell_type": "code",
   "execution_count": 8,
   "metadata": {
    "colab": {
     "base_uri": "https://localhost:8080/"
    },
    "id": "eVKhfbvA1kza",
    "outputId": "a0a03b3e-12ce-429a-f148-38554789fd8e"
   },
   "outputs": [
    {
     "name": "stdout",
     "output_type": "stream",
     "text": [
      "Reconstruction:\n",
      "\tnum_reg_images = 16\n",
      "\tnum_cameras = 16\n",
      "\tnum_points3D = 1493\n",
      "\tnum_observations = 3661\n",
      "\tmean_track_length = 2.45211\n",
      "\tmean_observations_per_image = 228.812\n",
      "\tmean_reprojection_error = 0.717112\n"
     ]
    }
   ],
   "source": [
    "print(recon.summary())"
   ]
  },
  {
   "cell_type": "code",
   "execution_count": 9,
   "metadata": {
    "id": "Q08nsxk913Fp"
   },
   "outputs": [],
   "source": [
    "qtvecs = get_qt_vector(recon)"
   ]
  },
  {
   "cell_type": "code",
   "execution_count": 10,
   "metadata": {},
   "outputs": [
    {
     "ename": "KeyError",
     "evalue": "''",
     "output_type": "error",
     "traceback": [
      "\u001b[0;31m---------------------------------------------------------------------------\u001b[0m",
      "\u001b[0;31mKeyError\u001b[0m                                  Traceback (most recent call last)",
      "\u001b[0;32m<ipython-input-22-a048d2795cd6>\u001b[0m in \u001b[0;36m<module>\u001b[0;34m\u001b[0m\n\u001b[0;32m----> 1\u001b[0;31m \u001b[0mprint\u001b[0m\u001b[0;34m(\u001b[0m\u001b[0mrecon\u001b[0m\u001b[0;34m.\u001b[0m\u001b[0mimages\u001b[0m\u001b[0;34m[\u001b[0m\u001b[0;36m1\u001b[0m\u001b[0;34m]\u001b[0m\u001b[0;34m.\u001b[0m\u001b[0mqvec\u001b[0m\u001b[0;34m)\u001b[0m\u001b[0;34m\u001b[0m\u001b[0;34m\u001b[0m\u001b[0m\n\u001b[0m\u001b[1;32m      2\u001b[0m \u001b[0mprint\u001b[0m\u001b[0;34m(\u001b[0m\u001b[0mrecon\u001b[0m\u001b[0;34m.\u001b[0m\u001b[0mimages\u001b[0m\u001b[0;34m[\u001b[0m\u001b[0;36m1\u001b[0m\u001b[0;34m]\u001b[0m\u001b[0;34m.\u001b[0m\u001b[0mtvec\u001b[0m\u001b[0;34m)\u001b[0m\u001b[0;34m\u001b[0m\u001b[0;34m\u001b[0m\u001b[0m\n",
      "\u001b[0;31mKeyError\u001b[0m: ''"
     ]
    }
   ],
   "source": [
    "print(recon.images[1].qvec)\n",
    "print(recon.images[1].tvec)"
   ]
  },
  {
   "cell_type": "code",
   "execution_count": 11,
   "metadata": {},
   "outputs": [
    {
     "name": "stdout",
     "output_type": "stream",
     "text": [
      "/src\n"
     ]
    }
   ],
   "source": [
    "%cd /src"
   ]
  },
  {
   "cell_type": "code",
   "execution_count": 13,
   "metadata": {},
   "outputs": [
    {
     "data": {
      "text/plain": [
       "['db/p012-d4-f00277.jpg',\n",
       " 'db/p011-d5-f00256.jpg',\n",
       " 'db/p011-d4-f00253.jpg',\n",
       " 'db/p011-d3-f00250.jpg',\n",
       " 'db/p010-d7-f00238.jpg',\n",
       " 'db/p011-d7-f00262.jpg',\n",
       " 'db/p009-d6-f00307.jpg',\n",
       " 'db/p012-d6-f00283.jpg',\n",
       " 'db/p010-d5-f00232.jpg',\n",
       " 'db/p011-d6-f00259.jpg',\n",
       " 'db/p009-d5-f00304.jpg',\n",
       " 'db/p012-d5-f00280.jpg',\n",
       " 'db/p010-d4-f00229.jpg',\n",
       " 'db/p009-d7-f00310.jpg',\n",
       " 'db/p012-d7-f00286.jpg',\n",
       " 'db/p010-d6-f00235.jpg']"
      ]
     },
     "execution_count": 13,
     "metadata": {},
     "output_type": "execute_result"
    }
   ],
   "source": [
    "image_paths"
   ]
  },
  {
   "cell_type": "code",
   "execution_count": 17,
   "metadata": {
    "id": "FftLneYW3LzQ"
   },
   "outputs": [
    {
     "name": "stderr",
     "output_type": "stream",
     "text": [
      "  0%|          | 0/16 [00:00<?, ?it/s][2023/02/15 09:10:38.795Z hloc INFO] Select Model Dataset\n",
      "  0%|          | 0/16 [00:00<?, ?it/s]"
     ]
    },
    {
     "name": "stdout",
     "output_type": "stream",
     "text": [
      "{'name': 'canteen-20221115', 'input': '/src/matcher_engine/HierarchicalLocalization/datasets/canteen-20221115/images/db/p012-d4-f00277.jpg', 'num': 100, 'rank': 5, 'feature_conf': 'superpoint_aachen', 'matcher_conf': 'superglue'}\n"
     ]
    },
    {
     "name": "stderr",
     "output_type": "stream",
     "text": [
      "\n"
     ]
    },
    {
     "ename": "FileNotFoundError",
     "evalue": "[Errno 2] No such file or directory: 'matcher_engine/HierarchicalLocalization/datasets/canteen-20221115/images/query'",
     "output_type": "error",
     "traceback": [
      "\u001b[0;31m\u001b[0m",
      "\u001b[0;31mFileNotFoundError\u001b[0mTraceback (most recent call last)",
      "\u001b[0;32m<ipython-input-17-d6157a91980a>\u001b[0m in \u001b[0;36m<module>\u001b[0;34m\u001b[0m\n\u001b[1;32m      4\u001b[0m \u001b[0mnum\u001b[0m \u001b[0;34m=\u001b[0m \u001b[0;36m100\u001b[0m\u001b[0;34m\u001b[0m\u001b[0;34m\u001b[0m\u001b[0m\n\u001b[1;32m      5\u001b[0m \u001b[0mimage_folder_paths\u001b[0m \u001b[0;34m=\u001b[0m \u001b[0;34mf'/src/matcher_engine/HierarchicalLocalization/datasets/{dset}/images'\u001b[0m\u001b[0;34m\u001b[0m\u001b[0;34m\u001b[0m\u001b[0m\n\u001b[0;32m----> 6\u001b[0;31m \u001b[0mquery_poses\u001b[0m \u001b[0;34m=\u001b[0m \u001b[0mmatcher_localize\u001b[0m\u001b[0;34m(\u001b[0m\u001b[0mimage_paths\u001b[0m\u001b[0;34m,\u001b[0m \u001b[0mimage_folder_paths\u001b[0m\u001b[0;34m,\u001b[0m \u001b[0mdataset_name\u001b[0m\u001b[0;34m,\u001b[0m \u001b[0mcvtColor\u001b[0m\u001b[0;34m=\u001b[0m\u001b[0;32mNone\u001b[0m\u001b[0;34m,\u001b[0m \u001b[0mnum\u001b[0m\u001b[0;34m=\u001b[0m\u001b[0mnum\u001b[0m\u001b[0;34m)\u001b[0m\u001b[0;34m\u001b[0m\u001b[0;34m\u001b[0m\u001b[0m\n\u001b[0m",
      "\u001b[0;32m<ipython-input-16-2bffa17b8e8b>\u001b[0m in \u001b[0;36mmatcher_localize\u001b[0;34m(image_paths, image_folder_path, dataset_name, num, rank, cvtColor, limit)\u001b[0m\n\u001b[1;32m     30\u001b[0m         \u001b[0;32mif\u001b[0m \u001b[0mcvtColor\u001b[0m\u001b[0;34m:\u001b[0m \u001b[0mimage\u001b[0m \u001b[0;34m=\u001b[0m \u001b[0mcv2\u001b[0m\u001b[0;34m.\u001b[0m\u001b[0mcvtColor\u001b[0m\u001b[0;34m(\u001b[0m\u001b[0mimage\u001b[0m\u001b[0;34m,\u001b[0m \u001b[0mcvtColor\u001b[0m\u001b[0;34m)\u001b[0m\u001b[0;34m\u001b[0m\u001b[0;34m\u001b[0m\u001b[0m\n\u001b[1;32m     31\u001b[0m         \u001b[0mqueries\u001b[0m \u001b[0;34m=\u001b[0m \u001b[0;34m[\u001b[0m\u001b[0;34m(\u001b[0m\u001b[0mos\u001b[0m\u001b[0;34m.\u001b[0m\u001b[0mpath\u001b[0m\u001b[0;34m.\u001b[0m\u001b[0mbasename\u001b[0m\u001b[0;34m(\u001b[0m\u001b[0mfull_image_path\u001b[0m\u001b[0;34m)\u001b[0m\u001b[0;34m,\u001b[0m \u001b[0mimage\u001b[0m\u001b[0;34m)\u001b[0m\u001b[0;34m]\u001b[0m\u001b[0;34m\u001b[0m\u001b[0;34m\u001b[0m\u001b[0m\n\u001b[0;32m---> 32\u001b[0;31m         \u001b[0mpose\u001b[0m \u001b[0;34m=\u001b[0m \u001b[0mlocalize_places\u001b[0m\u001b[0;34m(\u001b[0m\u001b[0mqueries\u001b[0m\u001b[0;34m,\u001b[0m \u001b[0margs\u001b[0m\u001b[0;34m)\u001b[0m\u001b[0;34m\u001b[0m\u001b[0;34m\u001b[0m\u001b[0m\n\u001b[0m\u001b[1;32m     33\u001b[0m         \u001b[0mposes\u001b[0m\u001b[0;34m[\u001b[0m\u001b[0mimage_path\u001b[0m\u001b[0;34m]\u001b[0m \u001b[0;34m=\u001b[0m \u001b[0mpose\u001b[0m\u001b[0;34m\u001b[0m\u001b[0;34m\u001b[0m\u001b[0m\n\u001b[1;32m     34\u001b[0m         \u001b[0mcount\u001b[0m\u001b[0;34m+=\u001b[0m\u001b[0;36m1\u001b[0m\u001b[0;34m\u001b[0m\u001b[0;34m\u001b[0m\u001b[0m\n",
      "\u001b[0;32m/src/app/place_utils.py\u001b[0m in \u001b[0;36mlocalize_places\u001b[0;34m(queries, params, covisibility_clustering, pair_mode)\u001b[0m\n\u001b[1;32m    198\u001b[0m     \u001b[0;31m# remove all existing query images\u001b[0m\u001b[0;34m\u001b[0m\u001b[0;34m\u001b[0m\u001b[0;34m\u001b[0m\u001b[0m\n\u001b[1;32m    199\u001b[0m     \u001b[0mquery_image_dir\u001b[0m \u001b[0;34m=\u001b[0m \u001b[0mstr\u001b[0m\u001b[0;34m(\u001b[0m\u001b[0mimages\u001b[0m \u001b[0;34m/\u001b[0m \u001b[0;34m'query'\u001b[0m\u001b[0;34m)\u001b[0m\u001b[0;34m\u001b[0m\u001b[0;34m\u001b[0m\u001b[0m\n\u001b[0;32m--> 200\u001b[0;31m     \u001b[0;32mfor\u001b[0m \u001b[0mquery_image_file\u001b[0m \u001b[0;32min\u001b[0m \u001b[0mos\u001b[0m\u001b[0;34m.\u001b[0m\u001b[0mlistdir\u001b[0m\u001b[0;34m(\u001b[0m\u001b[0mquery_image_dir\u001b[0m\u001b[0;34m)\u001b[0m\u001b[0;34m:\u001b[0m\u001b[0;34m\u001b[0m\u001b[0;34m\u001b[0m\u001b[0m\n\u001b[0m\u001b[1;32m    201\u001b[0m         \u001b[0mos\u001b[0m\u001b[0;34m.\u001b[0m\u001b[0mremove\u001b[0m\u001b[0;34m(\u001b[0m\u001b[0mos\u001b[0m\u001b[0;34m.\u001b[0m\u001b[0mpath\u001b[0m\u001b[0;34m.\u001b[0m\u001b[0mjoin\u001b[0m\u001b[0;34m(\u001b[0m\u001b[0mquery_image_dir\u001b[0m\u001b[0;34m,\u001b[0m \u001b[0mquery_image_file\u001b[0m\u001b[0;34m)\u001b[0m\u001b[0;34m)\u001b[0m\u001b[0;34m\u001b[0m\u001b[0;34m\u001b[0m\u001b[0m\n\u001b[1;32m    202\u001b[0m \u001b[0;34m\u001b[0m\u001b[0m\n",
      "\u001b[0;31mFileNotFoundError\u001b[0m: [Errno 2] No such file or directory: 'matcher_engine/HierarchicalLocalization/datasets/canteen-20221115/images/query'"
     ]
    }
   ],
   "source": [
    "image_paths = list(qtvecs.keys())\n",
    "\n",
    "dataset_name = dset\n",
    "num = 100\n",
    "image_folder_paths = f'/src/matcher_engine/HierarchicalLocalization/datasets/{dset}/images'\n",
    "query_poses = matcher_localize(image_paths, image_folder_paths, dataset_name, cvtColor=None, num=num)"
   ]
  },
  {
   "cell_type": "code",
   "execution_count": null,
   "metadata": {},
   "outputs": [],
   "source": [
    "query_poses"
   ]
  },
  {
   "cell_type": "code",
   "execution_count": 68,
   "metadata": {},
   "outputs": [],
   "source": [
    "import pickle \n",
    "\n",
    "#nt no translation in get pose ของพีมั่ม\n",
    "#nip no inverse pose เหมือน get_pose จะ return แต่ inverse pose เลยลบ inverse pose ทิ้ง \n",
    "with open(\"/src/matcher_engine/HierarchicalLocalization/error_analyze/query_poses_\"+dataset_name+\"_nt_nip.pkl\", \"wb\") as f:\n",
    "    pickle.dump(query_poses, f)"
   ]
  },
  {
   "cell_type": "code",
   "execution_count": 81,
   "metadata": {},
   "outputs": [
    {
     "name": "stdout",
     "output_type": "stream",
     "text": [
      "set new camera poses success!\n"
     ]
    }
   ],
   "source": [
    "set_query_poses_to_model(recon, query_poses)"
   ]
  },
  {
   "cell_type": "code",
   "execution_count": 70,
   "metadata": {},
   "outputs": [
    {
     "name": "stdout",
     "output_type": "stream",
     "text": [
      "[0.80069733 0.00605782 0.46331895 0.3797139 ]\n",
      "[-0.08557794 -0.96359958  3.32017164]\n"
     ]
    }
   ],
   "source": [
    "print(recon.images[1].qvec)\n",
    "print(recon.images[1].tvec)"
   ]
  },
  {
   "cell_type": "code",
   "execution_count": 71,
   "metadata": {},
   "outputs": [
    {
     "name": "stdout",
     "output_type": "stream",
     "text": [
      "/src/matcher_engine/HierarchicalLocalization/error_analyze\n"
     ]
    }
   ],
   "source": [
    "%cd /src/matcher_engine/HierarchicalLocalization/error_analyze"
   ]
  },
  {
   "cell_type": "code",
   "execution_count": 82,
   "metadata": {},
   "outputs": [],
   "source": [
    "os.makedirs(dataset_name+\"_nt_nip\", exist_ok=False)\n",
    "recon.write(dataset_name+\"_nt_nip\")"
   ]
  },
  {
   "cell_type": "code",
   "execution_count": 79,
   "metadata": {},
   "outputs": [
    {
     "name": "stdout",
     "output_type": "stream",
     "text": [
      "[0.80054002 0.00632992 0.46333653 0.38001957]\n",
      "[-0.0854075  -0.96382379  3.33234693]\n",
      "set new camera poses success!\n",
      "[0.80069733 0.00605782 0.46331895 0.3797139 ]\n",
      "[-0.08557794 -0.96359958  3.32017164]\n"
     ]
    }
   ],
   "source": [
    "num=1\n",
    "recon = pc.Reconstruction()\n",
    "recon.read(str((sfm)))\n",
    "print(recon.images[num].qvec)\n",
    "print(recon.images[num].tvec)\n",
    "set_query_poses_to_model(recon, query_poses)\n",
    "print(recon.images[num].qvec)\n",
    "print(recon.images[num].tvec)"
   ]
  },
  {
   "cell_type": "code",
   "execution_count": 54,
   "metadata": {},
   "outputs": [
    {
     "data": {
      "text/plain": [
       "[{'filename': 'query_2022-12-23T08:50:00.875571.jpg',\n",
       "  'position': {'x': 3.0636544893579325,\n",
       "   'y': -0.5663324126792799,\n",
       "   'z': -1.500891802639155},\n",
       "  'orientation': {'w': 0.8006973257870776,\n",
       "   'x': -0.006057820514290533,\n",
       "   'y': -0.46331895222044445,\n",
       "   'z': -0.3797138972982022},\n",
       "  'original_filename': 'IMG_0001.JPG',\n",
       "  'frame_id': 'cupid'}]"
      ]
     },
     "execution_count": 54,
     "metadata": {},
     "output_type": "execute_result"
    }
   ],
   "source": [
    "query_poses['db/IMG_0001.JPG']"
   ]
  },
  {
   "cell_type": "code",
   "execution_count": 12,
   "metadata": {},
   "outputs": [],
   "source": [
    "recon.read('/src/matcher_engine/HierarchicalLocalization/error_analyze/canteen-20221115')"
   ]
  },
  {
   "cell_type": "code",
   "execution_count": 35,
   "metadata": {},
   "outputs": [],
   "source": [
    "from tqdm.notebook import tqdm\n",
    "import numpy as np"
   ]
  },
  {
   "cell_type": "code",
   "execution_count": 43,
   "metadata": {},
   "outputs": [],
   "source": [
    "path = \"/src/matcher_engine/HierarchicalLocalization/PMUC_outputs/isl2-20221101/weight0/localize_dbqr0\"\n",
    "sfm_model = '/src/matcher_engine/HierarchicalLocalization/PMUC_outputs/isl2-20221101/weight0/map0'\n",
    "dataset_name = 'isl2-20221101'"
   ]
  },
  {
   "cell_type": "code",
   "execution_count": 37,
   "metadata": {},
   "outputs": [],
   "source": [
    "recon = pc.Reconstruction()\n",
    "recon.read(sfm_model)"
   ]
  },
  {
   "cell_type": "code",
   "execution_count": 38,
   "metadata": {},
   "outputs": [
    {
     "name": "stdout",
     "output_type": "stream",
     "text": [
      "[ 6.97996708e-01  7.16094951e-01 -2.93272366e-03  1.29027747e-04]\n",
      "[ 0.03344537 -0.01407832  0.02043296]\n"
     ]
    }
   ],
   "source": [
    "print(recon.images[1].qvec)\n",
    "print(recon.images[1].tvec)"
   ]
  },
  {
   "cell_type": "code",
   "execution_count": 39,
   "metadata": {},
   "outputs": [
    {
     "name": "stdout",
     "output_type": "stream",
     "text": [
      "setsetsetsetsetsetsetsetsetsetsetsetsetsetsetsetsetsetsetsetsetsetsetsetsetsetsetsetsetsetsetsetsetsetsetsetsetsetsetsetsetsetsetsetsetsetsetsetset new camera poses success!\n"
     ]
    }
   ],
   "source": [
    "def set_query_poses_to_model(recon, pose_path):\n",
    "    \"\"\"\n",
    "    use output from matcher localize\n",
    "    \"\"\"\n",
    "    raw_txt = open(pose_path, 'r').read().split(\"\\n\")[:-1]\n",
    "    dic = {i.split(\",\")[0]:i.split(\",\")[1:] for i in raw_txt}\n",
    "    for i, image in recon.images.items():\n",
    "        image_name = image.name\n",
    "        txt = dic[image_name]\n",
    "        t = txt\n",
    "        # q = poses[image_name][0]['orientation']\n",
    "        # t = poses[image_name][0]['position']\n",
    "        # old_qvec = recon.images[i].qvec\n",
    "        # old_tvec = recon.images[i].tvec\n",
    "        recon.images[i].tvec = np.array([t[0], t[1], t[2]])\n",
    "        recon.images[i].qvec = np.array([t[3],t[4],t[5],t[6]])\n",
    "        print(\"set\",end=\"\")\n",
    "    print(\"set new camera poses success!\")\n",
    "\n",
    "set_query_poses_to_model(recon, path)"
   ]
  },
  {
   "cell_type": "code",
   "execution_count": 40,
   "metadata": {},
   "outputs": [
    {
     "name": "stdout",
     "output_type": "stream",
     "text": [
      "[ 0.69764183  0.71643542 -0.00383728  0.0012035 ]\n",
      "[ 0.04027274 -0.01488617  0.01654028]\n"
     ]
    }
   ],
   "source": [
    "print(recon.images[1].qvec)\n",
    "print(recon.images[1].tvec)"
   ]
  },
  {
   "cell_type": "code",
   "execution_count": 41,
   "metadata": {},
   "outputs": [
    {
     "name": "stdout",
     "output_type": "stream",
     "text": [
      "/src/matcher_engine/HierarchicalLocalization/error_analyze\n"
     ]
    }
   ],
   "source": [
    "%cd /src/matcher_engine/HierarchicalLocalization/error_analyze"
   ]
  },
  {
   "cell_type": "code",
   "execution_count": 46,
   "metadata": {},
   "outputs": [],
   "source": [
    "import os\n",
    "os.makedirs(dataset_name+\"_report\")\n",
    "recon.write(dataset_name+\"_report\")"
   ]
  },
  {
   "cell_type": "code",
   "execution_count": null,
   "metadata": {},
   "outputs": [],
   "source": []
  }
 ],
 "metadata": {
  "colab": {
   "provenance": []
  },
  "kernelspec": {
   "display_name": "Python 3",
   "language": "python",
   "name": "python3"
  },
  "language_info": {
   "codemirror_mode": {
    "name": "ipython",
    "version": 3
   },
   "file_extension": ".py",
   "mimetype": "text/x-python",
   "name": "python",
   "nbconvert_exporter": "python",
   "pygments_lexer": "ipython3",
   "version": "3.6.9"
  }
 },
 "nbformat": 4,
 "nbformat_minor": 4
}
