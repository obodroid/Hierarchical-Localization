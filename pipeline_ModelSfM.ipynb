{
 "cells": [
  {
   "cell_type": "markdown",
   "metadata": {},
   "source": [
    "## Modeling from pre-precessed data"
   ]
  },
  {
   "cell_type": "code",
   "execution_count": 2,
   "metadata": {},
   "outputs": [
    {
     "name": "stdout",
     "output_type": "stream",
     "text": [
      "The autoreload extension is already loaded. To reload it, use:\n",
      "  %reload_ext autoreload\n",
      "[12/27/2021 04:28:36.679Z] INFO] Extract local features:\n",
      "PosixPath('datasets/eng3_2021-11-19-18-02-19/feats-superpoint-n512-r1024.h5')\n",
      "[12/27/2021 04:28:36.680Z] INFO] Extract global descriptors:\n",
      "PosixPath('datasets/eng3_2021-11-19-18-02-19/openibl_4096.h5')\n",
      "[12/27/2021 04:28:36.680Z] INFO] sfm_pairs_path:\n",
      "PosixPath('datasets/eng3_2021-11-19-18-02-19/pairs-db-covis20.txt')\n",
      "[12/27/2021 04:28:36.696Z] WARNING] The database already exists, deleting it.\n",
      "[12/27/2021 04:28:36.724Z] INFO] Creating an empty database...\n",
      "[12/27/2021 04:28:37.231Z] INFO] Importing images into the database...\n",
      "[12/27/2021 04:28:55.958Z] INFO] Importing features into the database...\n"
     ]
    },
    {
     "name": "stderr",
     "output_type": "stream",
     "text": [
      "100% 6162/6162 [00:10<00:00, 605.70it/s]\n"
     ]
    },
    {
     "name": "stdout",
     "output_type": "stream",
     "text": [
      "[12/27/2021 04:29:06.680Z] INFO] Importing matches into the database...\n"
     ]
    },
    {
     "name": "stderr",
     "output_type": "stream",
     "text": [
      "100% 123240/123240 [01:02<00:00, 1976.93it/s]\n"
     ]
    },
    {
     "name": "stdout",
     "output_type": "stream",
     "text": [
      "[12/27/2021 04:30:10.794Z] INFO] Performing geometric verification of the matches...\n",
      "[12/27/2021 04:35:26.230Z] INFO] Running the reconstruction with command:\n",
      "colmap mapper --database_path datasets/eng3_2021-11-19-18-02-19/sfm_superpoint+superglue/database.db --image_path datasets/eng3_2021-11-19-18-02-19/images --output_path datasets/eng3_2021-11-19-18-02-19/sfm_superpoint+superglue/models --Mapper.num_threads 16\n",
      "[12/27/2021 17:48:51.031Z] INFO] Reconstructed 1 models.\n",
      "[12/27/2021 17:48:51.033Z] INFO] Largest model is #0 with 1 images.\n"
     ]
    },
    {
     "ename": "Error",
     "evalue": "Destination path 'datasets/eng3_2021-11-19-18-02-19/sfm_superpoint+superglue/images.bin' already exists",
     "output_type": "error",
     "traceback": [
      "\u001b[0;31m---------------------------------------------------------------------------\u001b[0m",
      "\u001b[0;31mError\u001b[0m                                     Traceback (most recent call last)",
      "\u001b[0;32m/tmp/ipykernel_373/2429000444.py\u001b[0m in \u001b[0;36m<module>\u001b[0;34m\u001b[0m\n\u001b[1;32m     46\u001b[0m \u001b[0;34m\u001b[0m\u001b[0m\n\u001b[1;32m     47\u001b[0m \u001b[0;31m# SfM reconstruction\u001b[0m\u001b[0;34m\u001b[0m\u001b[0;34m\u001b[0m\u001b[0;34m\u001b[0m\u001b[0m\n\u001b[0;32m---> 48\u001b[0;31m \u001b[0mreconstruction\u001b[0m\u001b[0;34m.\u001b[0m\u001b[0mmain\u001b[0m\u001b[0;34m(\u001b[0m\u001b[0msfm_dir\u001b[0m\u001b[0;34m,\u001b[0m \u001b[0mimages_dir\u001b[0m\u001b[0;34m,\u001b[0m \u001b[0msfm_pairs_path\u001b[0m\u001b[0;34m,\u001b[0m \u001b[0mfeature_path\u001b[0m\u001b[0;34m,\u001b[0m \u001b[0mmatch_path\u001b[0m\u001b[0;34m,\u001b[0m \u001b[0msingle_camera\u001b[0m\u001b[0;34m=\u001b[0m\u001b[0;32mTrue\u001b[0m\u001b[0;34m,\u001b[0m \u001b[0mexclude_folder\u001b[0m\u001b[0;34m=\u001b[0m\u001b[0;34m\"queries\"\u001b[0m\u001b[0;34m)\u001b[0m\u001b[0;34m\u001b[0m\u001b[0;34m\u001b[0m\u001b[0m\n\u001b[0m\u001b[1;32m     49\u001b[0m \u001b[0;34m\u001b[0m\u001b[0m\n\u001b[1;32m     50\u001b[0m \u001b[0;31m# Visualization\u001b[0m\u001b[0;34m\u001b[0m\u001b[0;34m\u001b[0m\u001b[0;34m\u001b[0m\u001b[0m\n",
      "\u001b[0;32m/src/matcher_engine/HierarchicalLocalization/hloc/reconstruction.py\u001b[0m in \u001b[0;36mmain\u001b[0;34m(sfm_dir, image_dir, pairs, features, matches, exclude_folder, colmap_path, single_camera, skip_geometric_verification, min_match_score, min_num_matches, verbose)\u001b[0m\n\u001b[1;32m    150\u001b[0m         \u001b[0mgeometric_verification\u001b[0m\u001b[0;34m(\u001b[0m\u001b[0mcolmap_path\u001b[0m\u001b[0;34m,\u001b[0m \u001b[0mdatabase\u001b[0m\u001b[0;34m,\u001b[0m \u001b[0mpairs\u001b[0m\u001b[0;34m,\u001b[0m \u001b[0mverbose\u001b[0m\u001b[0;34m)\u001b[0m\u001b[0;34m\u001b[0m\u001b[0;34m\u001b[0m\u001b[0m\n\u001b[1;32m    151\u001b[0m     stats = run_reconstruction(\n\u001b[0;32m--> 152\u001b[0;31m         colmap_path, sfm_dir, database, image_dir, min_num_matches, verbose)\n\u001b[0m\u001b[1;32m    153\u001b[0m     \u001b[0;32mif\u001b[0m \u001b[0mstats\u001b[0m \u001b[0;32mis\u001b[0m \u001b[0;32mnot\u001b[0m \u001b[0;32mNone\u001b[0m\u001b[0;34m:\u001b[0m\u001b[0;34m\u001b[0m\u001b[0;34m\u001b[0m\u001b[0m\n\u001b[1;32m    154\u001b[0m         \u001b[0mstats\u001b[0m\u001b[0;34m[\u001b[0m\u001b[0;34m'num_input_images'\u001b[0m\u001b[0;34m]\u001b[0m \u001b[0;34m=\u001b[0m \u001b[0mlen\u001b[0m\u001b[0;34m(\u001b[0m\u001b[0mimage_ids\u001b[0m\u001b[0;34m)\u001b[0m\u001b[0;34m\u001b[0m\u001b[0;34m\u001b[0m\u001b[0m\n",
      "\u001b[0;32m/src/matcher_engine/HierarchicalLocalization/hloc/reconstruction.py\u001b[0m in \u001b[0;36mrun_reconstruction\u001b[0;34m(colmap_path, sfm_dir, database_path, image_dir, min_num_matches, verbose)\u001b[0m\n\u001b[1;32m    123\u001b[0m \u001b[0;34m\u001b[0m\u001b[0m\n\u001b[1;32m    124\u001b[0m     \u001b[0;32mfor\u001b[0m \u001b[0mfilename\u001b[0m \u001b[0;32min\u001b[0m \u001b[0;34m[\u001b[0m\u001b[0;34m'images.bin'\u001b[0m\u001b[0;34m,\u001b[0m \u001b[0;34m'cameras.bin'\u001b[0m\u001b[0;34m,\u001b[0m \u001b[0;34m'points3D.bin'\u001b[0m\u001b[0;34m]\u001b[0m\u001b[0;34m:\u001b[0m\u001b[0;34m\u001b[0m\u001b[0;34m\u001b[0m\u001b[0m\n\u001b[0;32m--> 125\u001b[0;31m         \u001b[0mshutil\u001b[0m\u001b[0;34m.\u001b[0m\u001b[0mmove\u001b[0m\u001b[0;34m(\u001b[0m\u001b[0mstr\u001b[0m\u001b[0;34m(\u001b[0m\u001b[0mlargest_model\u001b[0m \u001b[0;34m/\u001b[0m \u001b[0mfilename\u001b[0m\u001b[0;34m)\u001b[0m\u001b[0;34m,\u001b[0m \u001b[0mstr\u001b[0m\u001b[0;34m(\u001b[0m\u001b[0msfm_dir\u001b[0m\u001b[0;34m)\u001b[0m\u001b[0;34m)\u001b[0m\u001b[0;34m\u001b[0m\u001b[0;34m\u001b[0m\u001b[0m\n\u001b[0m\u001b[1;32m    126\u001b[0m \u001b[0;34m\u001b[0m\u001b[0m\n\u001b[1;32m    127\u001b[0m     \u001b[0;32mreturn\u001b[0m \u001b[0mstats\u001b[0m\u001b[0;34m\u001b[0m\u001b[0;34m\u001b[0m\u001b[0m\n",
      "\u001b[0;32m/usr/lib/python3.7/shutil.py\u001b[0m in \u001b[0;36mmove\u001b[0;34m(src, dst, copy_function)\u001b[0m\n\u001b[1;32m    562\u001b[0m         \u001b[0mreal_dst\u001b[0m \u001b[0;34m=\u001b[0m \u001b[0mos\u001b[0m\u001b[0;34m.\u001b[0m\u001b[0mpath\u001b[0m\u001b[0;34m.\u001b[0m\u001b[0mjoin\u001b[0m\u001b[0;34m(\u001b[0m\u001b[0mdst\u001b[0m\u001b[0;34m,\u001b[0m \u001b[0m_basename\u001b[0m\u001b[0;34m(\u001b[0m\u001b[0msrc\u001b[0m\u001b[0;34m)\u001b[0m\u001b[0;34m)\u001b[0m\u001b[0;34m\u001b[0m\u001b[0;34m\u001b[0m\u001b[0m\n\u001b[1;32m    563\u001b[0m         \u001b[0;32mif\u001b[0m \u001b[0mos\u001b[0m\u001b[0;34m.\u001b[0m\u001b[0mpath\u001b[0m\u001b[0;34m.\u001b[0m\u001b[0mexists\u001b[0m\u001b[0;34m(\u001b[0m\u001b[0mreal_dst\u001b[0m\u001b[0;34m)\u001b[0m\u001b[0;34m:\u001b[0m\u001b[0;34m\u001b[0m\u001b[0;34m\u001b[0m\u001b[0m\n\u001b[0;32m--> 564\u001b[0;31m             \u001b[0;32mraise\u001b[0m \u001b[0mError\u001b[0m\u001b[0;34m(\u001b[0m\u001b[0;34m\"Destination path '%s' already exists\"\u001b[0m \u001b[0;34m%\u001b[0m \u001b[0mreal_dst\u001b[0m\u001b[0;34m)\u001b[0m\u001b[0;34m\u001b[0m\u001b[0;34m\u001b[0m\u001b[0m\n\u001b[0m\u001b[1;32m    565\u001b[0m     \u001b[0;32mtry\u001b[0m\u001b[0;34m:\u001b[0m\u001b[0;34m\u001b[0m\u001b[0;34m\u001b[0m\u001b[0m\n\u001b[1;32m    566\u001b[0m         \u001b[0mos\u001b[0m\u001b[0;34m.\u001b[0m\u001b[0mrename\u001b[0m\u001b[0;34m(\u001b[0m\u001b[0msrc\u001b[0m\u001b[0;34m,\u001b[0m \u001b[0mreal_dst\u001b[0m\u001b[0;34m)\u001b[0m\u001b[0;34m\u001b[0m\u001b[0;34m\u001b[0m\u001b[0m\n",
      "\u001b[0;31mError\u001b[0m: Destination path 'datasets/eng3_2021-11-19-18-02-19/sfm_superpoint+superglue/images.bin' already exists"
     ]
    }
   ],
   "source": [
    "%load_ext autoreload\n",
    "%autoreload 2\n",
    "\n",
    "import logging\n",
    "from pathlib import Path\n",
    "import pprint\n",
    "\n",
    "from hloc import extract_features, match_features, reconstruction, visualization\n",
    "from hloc import retrieval, pairs_from_retrieval\n",
    "\n",
    "dataset_name = 'eng3_2021-11-19-18-02-19'\n",
    "dataset_dir = Path('datasets') / dataset_name\n",
    "images_dir = dataset_dir / 'images'\n",
    "\n",
    "outputs_dir = Path('datasets') / dataset_name\n",
    "outputs_dir.mkdir(parents=True, exist_ok=True)\n",
    "sfm_pairs_path = outputs_dir / 'pairs-db-covis20.txt'\n",
    "sfm_dir = outputs_dir / 'sfm_superpoint+superglue'\n",
    "\n",
    "# feature_conf = extract_features.confs['superpoint_aachen']\n",
    "feature_conf = extract_features.confs['superpoint_obodroid']\n",
    "matcher_conf = match_features.confs['superglue']\n",
    "\n",
    "global_descriptor_name = \"openibl_4096.h5\"\n",
    "\n",
    "# Extract local features\n",
    "feature_path = Path(outputs_dir, feature_conf['output']+'.h5')\n",
    "logging.info('Extract local features:'f'\\n{pprint.pformat(feature_path)}')\n",
    "\n",
    "# Extract global descriptors\n",
    "desc_path = Path(outputs_dir, global_descriptor_name)\n",
    "logging.info('Extract global descriptors:'f'\\n{pprint.pformat(desc_path)}')\n",
    "\n",
    "# Find pairs from global descriptors\n",
    "# sfm_pairs_path\n",
    "logging.info('sfm_pairs_path:'f'\\n{pprint.pformat(sfm_pairs_path)}')\n",
    "\n",
    "# Exhaustive matching\n",
    "match_path = Path(outputs_dir, f'{feature_conf[\"output\"]}_{matcher_conf[\"output\"]}_{sfm_pairs_path.stem}.h5')\n",
    "\n",
    "# match_path = match_features.main(matcher_conf, sfm_pairs_path, feature_conf['output'], outputs_dir)\n",
    "# def main(conf: Dict, pairs: Path, features: Union[Path, str],\n",
    "#          export_dir: Optional[Path] = None, matches: Optional[Path] = None,\n",
    "#          features_ref: Optional[Path] = None, exhaustive: bool = False):\n",
    "# matches = Path(export_dir, f'{features}_{conf[\"output\"]}_{pairs.stem}.h5')\n",
    "\n",
    "# SfM reconstruction\n",
    "reconstruction.main(sfm_dir, images_dir, sfm_pairs_path, feature_path, match_path, single_camera=True, exclude_folder=\"queries\")\n",
    "    \n",
    "# Visualization\n",
    "visualization.visualize_sfm_2d(sfm_dir, images_dir, color_by='visibility', n=5)\n",
    "visualization.visualize_sfm_2d(sfm_dir, images_dir, color_by='track_length', n=5)\n",
    "visualization.visualize_sfm_2d(sfm_dir, images_dir, color_by='depth', n=5)"
   ]
  }
 ],
 "metadata": {
  "kernelspec": {
   "display_name": "Python 3 (ipykernel)",
   "language": "python",
   "name": "python3"
  },
  "language_info": {
   "codemirror_mode": {
    "name": "ipython",
    "version": 3
   },
   "file_extension": ".py",
   "mimetype": "text/x-python",
   "name": "python",
   "nbconvert_exporter": "python",
   "pygments_lexer": "ipython3",
   "version": "3.7.12"
  }
 },
 "nbformat": 4,
 "nbformat_minor": 4
}
