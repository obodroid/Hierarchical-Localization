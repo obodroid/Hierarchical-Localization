{
 "cells": [
  {
   "cell_type": "code",
   "execution_count": null,
   "metadata": {},
   "outputs": [],
   "source": [
    "%load_ext autoreload\n",
    "%autoreload 2\n",
    "\n",
    "from pathlib import Path\n",
    "from pprint import pformat\n",
    "\n",
    "from hloc import extract_features, match_features, pairs_from_covisibility\n",
    "from hloc import triangulation, localize_sfm, visualization\n",
    "from hloc import retrieval, pairs_from_retrieval"
   ]
  },
  {
   "cell_type": "markdown",
   "metadata": {},
   "source": [
    "# Pipeline for outdoor day-night visual localization"
   ]
  },
  {
   "cell_type": "markdown",
   "metadata": {},
   "source": [
    "## Setup\n",
    "Here we declare the paths to the dataset, the reconstruction and localization outputs, and we choose the feature extractor and the matcher. You only need to download the [Aachen Day-Night dataset](https://www.visuallocalization.net/datasets/) and put it in `datasets/aachen/`, or change the path."
   ]
  },
  {
   "cell_type": "code",
   "execution_count": null,
   "metadata": {},
   "outputs": [],
   "source": [
    "dataset = Path('datasets/Tutorial 01 Dataset/')\n",
    "images = dataset / 'images/'\n",
    "\n",
    "\n",
    "outputs = Path('outputs/sfm/')\n",
    "sfm_pairs = outputs / 'pairs-exhaustive.txt'\n",
    "loc_pairs = outputs / 'pairs-query-netvlad50.txt'\n",
    "\n",
    "reference_sfm = outputs / 'sfm_superpoint+superglue'\n",
    "triangulated_sfm = outputs / 'sfm_superpoint+superglue_triangulated'\n",
    "results = outputs / 'Tutorial_hloc_superpoint+superglue_netvlad50.txt'\n",
    "\n",
    "global_descriptor_name = \"openibl_4096.h5\""
   ]
  },
  {
   "cell_type": "code",
   "execution_count": null,
   "metadata": {},
   "outputs": [],
   "source": [
    "# list the standard configurations available\n",
    "print(f'Configs for feature extractors:\\n{pformat(extract_features.confs)}')\n",
    "print(f'Configs for feature matchers:\\n{pformat(match_features.confs)}')"
   ]
  },
  {
   "cell_type": "code",
   "execution_count": null,
   "metadata": {},
   "outputs": [],
   "source": [
    "# pick one of the configurations for extraction and matching\n",
    "# you can also simply write your own here!\n",
    "feature_conf = extract_features.confs['superpoint_aachen']\n",
    "matcher_conf = match_features.confs['superglue']"
   ]
  },
  {
   "cell_type": "markdown",
   "metadata": {},
   "source": [
    "## Extract local features for database and query images"
   ]
  },
  {
   "cell_type": "code",
   "execution_count": null,
   "metadata": {},
   "outputs": [],
   "source": [
    "feature_path = extract_features.main(feature_conf, images, outputs)"
   ]
  },
  {
   "cell_type": "markdown",
   "metadata": {},
   "source": [
    "The function returns the path of the file in which all the extracted features are stored."
   ]
  },
  {
   "cell_type": "markdown",
   "metadata": {},
   "source": [
    "## Generate pairs for the SfM reconstruction\n",
    "Instead of matching all database images exhaustively, we exploit the existing SIFT model to find which image pairs are the most covisible. We first convert the SIFT model from the NVM to the COLMAP format, and then do a covisiblity search, selecting the top 20 most covisibile neighbors for each image."
   ]
  },
  {
   "cell_type": "code",
   "execution_count": null,
   "metadata": {},
   "outputs": [],
   "source": [
    "pairs_from_covisibility.main(\n",
    "    reference_sfm, sfm_pairs, num_matched=20)"
   ]
  },
  {
   "cell_type": "markdown",
   "metadata": {},
   "source": [
    "## Match the database images"
   ]
  },
  {
   "cell_type": "code",
   "execution_count": null,
   "metadata": {},
   "outputs": [],
   "source": [
    "sfm_match_path = match_features.main(matcher_conf, sfm_pairs, feature_conf['output'], outputs)"
   ]
  },
  {
   "cell_type": "markdown",
   "metadata": {},
   "source": [
    "The function returns the path of the file in which all the computed matches are stored."
   ]
  },
  {
   "cell_type": "markdown",
   "metadata": {},
   "source": [
    "## Triangulate a new SfM model from the given poses\n",
    "We triangulate the sparse 3D pointcloud given the matches and the reference poses stored in the SIFT COLMAP model."
   ]
  },
  {
   "cell_type": "code",
   "execution_count": null,
   "metadata": {},
   "outputs": [],
   "source": [
    "triangulation.main(\n",
    "    triangulated_sfm,\n",
    "    reference_sfm,\n",
    "    images,\n",
    "    sfm_pairs,\n",
    "    feature_path,\n",
    "    sfm_match_path,\n",
    "    colmap_path='colmap')"
   ]
  },
  {
   "cell_type": "markdown",
   "metadata": {},
   "source": [
    "## Match the query images\n",
    "Here we assume that the localization pairs are already computed using image retrieval (NetVLAD). To generate new pairs from your own global descriptors, have a look at `hloc/pairs_from_retrieval.py`. These pairs are also used for the localization - see below."
   ]
  },
  {
   "cell_type": "code",
   "execution_count": null,
   "metadata": {},
   "outputs": [],
   "source": [
    "desc_path = retrieval.main(retrieval.confs[\"openibl\"], images, outputs, global_descriptor_name)\n",
    "pairs_from_retrieval.main(desc_path, loc_pairs, 20, db_prefix=\"d\", query_prefix=\"q\")\n",
    "loc_match_path = match_features.main(matcher_conf, loc_pairs, feature_conf['output'], outputs)"
   ]
  },
  {
   "cell_type": "markdown",
   "metadata": {},
   "source": [
    "## Localize!\n",
    "Perform hierarchical localization using the precomputed retrieval and matches. The file `Aachen_hloc_superpoint+superglue_netvlad50.txt` will contain the estimated query poses. Have a look at `Aachen_hloc_superpoint+superglue_netvlad50.txt_logs.pkl` to analyze some statistics and find failure cases."
   ]
  },
  {
   "cell_type": "code",
   "execution_count": null,
   "metadata": {},
   "outputs": [],
   "source": [
    "localize_sfm.main(\n",
    "    triangulated_sfm,\n",
    "    dataset / 'queries_with_intrinsics.txt',\n",
    "    loc_pairs,\n",
    "    feature_path,\n",
    "    loc_match_path,\n",
    "    results,\n",
    "    covisibility_clustering=False)  # not required with SuperPoint+SuperGlue"
   ]
  },
  {
   "cell_type": "markdown",
   "metadata": {},
   "source": [
    "## Visualizing the SfM model\n",
    "We visualize some of the database images with their detected keypoints."
   ]
  },
  {
   "cell_type": "markdown",
   "metadata": {},
   "source": [
    "Color the keypoints by track length: red keypoints are observed many times, blue keypoints few."
   ]
  },
  {
   "cell_type": "code",
   "execution_count": null,
   "metadata": {},
   "outputs": [],
   "source": [
    "visualization.visualize_sfm_2d(reference_sfm, images, n=1, color_by='track_length')"
   ]
  },
  {
   "cell_type": "markdown",
   "metadata": {},
   "source": [
    "Color the keypoints by visibility: blue if sucessfully triangulated, red if never matched."
   ]
  },
  {
   "cell_type": "code",
   "execution_count": null,
   "metadata": {},
   "outputs": [],
   "source": [
    "visualization.visualize_sfm_2d(reference_sfm, images, n=1, color_by='visibility')"
   ]
  },
  {
   "cell_type": "markdown",
   "metadata": {},
   "source": [
    "Color the keypoints by triangulated depth: red keypoints are far away, blue keypoints are closer."
   ]
  },
  {
   "cell_type": "code",
   "execution_count": null,
   "metadata": {},
   "outputs": [],
   "source": [
    "visualization.visualize_sfm_2d(reference_sfm, images, n=1, color_by='depth')"
   ]
  },
  {
   "cell_type": "markdown",
   "metadata": {},
   "source": [
    "## Visualizing the localization\n",
    "We parse the localization logs and for each query image plot matches and inliers with a few database images."
   ]
  },
  {
   "cell_type": "code",
   "execution_count": null,
   "metadata": {},
   "outputs": [],
   "source": [
    "visualization.visualize_loc(\n",
    "    results, images, reference_sfm, n=1, top_k_db=1, prefix='query/night', seed=2)"
   ]
  }
 ],
 "metadata": {
  "kernelspec": {
   "display_name": "Python 3 (ipykernel)",
   "language": "python",
   "name": "python3"
  },
  "language_info": {
   "codemirror_mode": {
    "name": "ipython",
    "version": 3
   },
   "file_extension": ".py",
   "mimetype": "text/x-python",
   "name": "python",
   "nbconvert_exporter": "python",
   "pygments_lexer": "ipython3",
   "version": "3.7.12"
  }
 },
 "nbformat": 4,
 "nbformat_minor": 4
}
