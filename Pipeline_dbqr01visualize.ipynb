{
 "cells": [
  {
   "cell_type": "markdown",
   "id": "78edde2d-7c1c-45cc-9ac4-f1067730d77f",
   "metadata": {},
   "source": [
    "### target model to add camera"
   ]
  },
  {
   "cell_type": "code",
   "execution_count": 8,
   "id": "137d2397-60a7-4d75-826f-178e483c31f3",
   "metadata": {},
   "outputs": [
    {
     "name": "stdout",
     "output_type": "stream",
     "text": [
      "\u001b[33mWARNING: The directory '/root/.cache/pip' or its parent directory is not owned or is not writable by the current user. The cache has been disabled. Check the permissions and owner of that directory. If executing pip with sudo, you should use sudo's -H flag.\u001b[0m\n",
      "\u001b[31mERROR: Could not find a version that satisfies the requirement bpy (from versions: none)\u001b[0m\n",
      "\u001b[31mERROR: No matching distribution found for bpy\u001b[0m\n"
     ]
    }
   ],
   "source": [
    "!python3 -m pip install bpy"
   ]
  },
  {
   "cell_type": "code",
   "execution_count": 3,
   "id": "35042a05-470b-42da-9ad3-0a5ebdbbe5db",
   "metadata": {},
   "outputs": [],
   "source": [
    "recon2 = pc.Reconstruction()\n",
    "model_path = \"/src/matcher_engine/HierarchicalLocalization/PMUC_outputs/bld4f1-20221101/weight0/map0\"\n",
    "recon2.read(model_path)"
   ]
  },
  {
   "cell_type": "code",
   "execution_count": 5,
   "id": "e39c519d-8450-4a41-a871-41ed444ef667",
   "metadata": {},
   "outputs": [
    {
     "data": {
      "text/plain": [
       "{2: <Camera 'camera_id=2, model=SIMPLE_RADIAL, width=1280, height=720, num_params=4'>, 1: <Camera 'camera_id=1, model=SIMPLE_RADIAL, width=1008, height=756, num_params=4'>}"
      ]
     },
     "execution_count": 5,
     "metadata": {},
     "output_type": "execute_result"
    }
   ],
   "source": [
    "recon2.cameras"
   ]
  },
  {
   "cell_type": "code",
   "execution_count": null,
   "id": "7b914b24-fe03-40ba-a54d-1b2155349801",
   "metadata": {},
   "outputs": [],
   "source": [
    "import bpy\n",
    "\n",
    "# Create first camera\n",
    "bpy.ops.object.camera_add()\n",
    "camera1 = bpy.context.object\n",
    "camera1.name = \"Camera1\""
   ]
  },
  {
   "cell_type": "code",
   "execution_count": null,
   "id": "8aa6f524-8594-4b21-b8b7-4d1ffe9695f4",
   "metadata": {},
   "outputs": [],
   "source": [
    "import numpy as np\n",
    "from pathlib import Path\n",
    "image_path = \"/src/matcher_engine/HierarchicalLocalization/PMUC_Dataset/1000Hour_placeno16\"\n",
    "txt = open(Path(image_path) / \"localize_result_upper_p16.txt\", 'r').read().split(\"\\n\")[:-1]\n",
    "\n",
    "image_idx = 1\n",
    "for tx in txt:\n",
    "    tx = tx.split(\",\")\n",
    "    image_name = tx[0]\n",
    "    t = np.array(tx[1:4])\n",
    "    if t[0] == 'ERROR': continue\n",
    "    print(t)\n",
    "    q = np.array(tx[4:])\n",
    "    try:\n",
    "        image_sfm = recon2.images[image_idx]\n",
    "    except Exception as e:\n",
    "        print(e)\n",
    "    image_sfm.tvec = t\n",
    "    image_sfm.qvec = q\n",
    "    image_sfm.name = image_name\n",
    "    image_sfm.image_id = image_idx\n",
    "    # image_sfm.camera_id = 2\n",
    "    print(image_sfm)\n",
    "    # recon2.add_image(image_sfm)\n",
    "    image_idx += 1\n",
    "    # break"
   ]
  },
  {
   "cell_type": "code",
   "execution_count": 12,
   "id": "f96626b5-16fa-4fb9-9642-ab6a2de40b59",
   "metadata": {},
   "outputs": [
    {
     "data": {
      "text/plain": [
       "1918"
      ]
     },
     "execution_count": 12,
     "metadata": {},
     "output_type": "execute_result"
    }
   ],
   "source": [
    "image_idx"
   ]
  },
  {
   "cell_type": "code",
   "execution_count": 13,
   "id": "674024d6-5eff-4924-8e0c-5fc0322e8eae",
   "metadata": {},
   "outputs": [
    {
     "data": {
      "text/plain": [
       "<Image 'image_id=1917, camera_id=1, name=\"sr1-101_2496_16_0.jpg\", triangulated=828/3208'>"
      ]
     },
     "execution_count": 13,
     "metadata": {},
     "output_type": "execute_result"
    }
   ],
   "source": [
    "image_sfm"
   ]
  },
  {
   "cell_type": "code",
   "execution_count": 15,
   "id": "1bd29cb9-7617-424f-b807-dda5f3fa177a",
   "metadata": {},
   "outputs": [
    {
     "data": {
      "text/plain": [
       "198"
      ]
     },
     "execution_count": 15,
     "metadata": {},
     "output_type": "execute_result"
    }
   ],
   "source": [
    "recon2.images.__len__()"
   ]
  },
  {
   "cell_type": "code",
   "execution_count": 16,
   "id": "e0c3274a-77fd-4ff1-9763-c3f1572d68a2",
   "metadata": {},
   "outputs": [
    {
     "data": {
      "text/plain": [
       "<Image 'image_id=1917, camera_id=1, name=\"sr1-101_2496_16_0.jpg\", triangulated=828/3208'>"
      ]
     },
     "execution_count": 16,
     "metadata": {},
     "output_type": "execute_result"
    }
   ],
   "source": [
    "image_sfm"
   ]
  },
  {
   "cell_type": "code",
   "execution_count": 18,
   "id": "f7b7a007-7dfd-4ec9-bf1f-dee113661776",
   "metadata": {},
   "outputs": [],
   "source": [
    "recon2.write('/src/matcher_engine/HierarchicalLocalization/PMUC_outputs/1000Hour_outputs/bld4-upper-p16')"
   ]
  },
  {
   "cell_type": "code",
   "execution_count": 1,
   "id": "c9f9a259-cdc7-4104-8a58-9e5b1cc736fe",
   "metadata": {},
   "outputs": [
    {
     "ename": "NameError",
     "evalue": "name 'recon2' is not defined",
     "output_type": "error",
     "traceback": [
      "\u001b[0;31m\u001b[0m",
      "\u001b[0;31mNameError\u001b[0mTraceback (most recent call last)",
      "\u001b[0;32m<ipython-input-1-c71e351453e3>\u001b[0m in \u001b[0;36m<module>\u001b[0;34m\u001b[0m\n\u001b[0;32m----> 1\u001b[0;31m \u001b[0mrecon2\u001b[0m\u001b[0;34m\u001b[0m\u001b[0;34m\u001b[0m\u001b[0m\n\u001b[0m",
      "\u001b[0;31mNameError\u001b[0m: name 'recon2' is not defined"
     ]
    }
   ],
   "source": [
    "recon2"
   ]
  },
  {
   "cell_type": "code",
   "execution_count": null,
   "id": "3fafa6d1-f5c8-4f5b-894a-27a5da661afc",
   "metadata": {},
   "outputs": [],
   "source": []
  }
 ],
 "metadata": {
  "kernelspec": {
   "display_name": "Python 3",
   "language": "python",
   "name": "python3"
  },
  "language_info": {
   "codemirror_mode": {
    "name": "ipython",
    "version": 3
   },
   "file_extension": ".py",
   "mimetype": "text/x-python",
   "name": "python",
   "nbconvert_exporter": "python",
   "pygments_lexer": "ipython3",
   "version": "3.6.9"
  }
 },
 "nbformat": 4,
 "nbformat_minor": 5
}
